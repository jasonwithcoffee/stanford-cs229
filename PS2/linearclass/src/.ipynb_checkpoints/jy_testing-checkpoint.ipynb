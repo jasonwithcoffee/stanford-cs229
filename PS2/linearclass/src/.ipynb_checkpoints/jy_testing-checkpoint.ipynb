{
 "cells": [
  {
   "cell_type": "code",
   "execution_count": 1,
   "metadata": {},
   "outputs": [],
   "source": [
    "import numpy as np\n",
    "import util\n",
    "import logregWORKING, gdaWORKING"
   ]
  },
  {
   "cell_type": "code",
   "execution_count": 6,
   "metadata": {},
   "outputs": [],
   "source": [
    "valid_path='ds1_valid.csv'\n",
    "x_eval, y_eval = util.load_dataset(valid_path, add_intercept=True)"
   ]
  },
  {
   "cell_type": "code",
   "execution_count": 2,
   "metadata": {},
   "outputs": [],
   "source": [
    "y_eval, y_pred = logreg.main(train_path='ds1_train.csv',\n",
    "         valid_path='ds1_valid.csv',\n",
    "         save_path='logreg_pred_1.txt')"
   ]
  },
  {
   "cell_type": "code",
   "execution_count": 3,
   "metadata": {},
   "outputs": [
    {
     "data": {
      "text/plain": [
       "array([0., 0., 0., 0., 0., 0., 0., 0., 0., 0., 0., 0., 0., 0., 0., 0., 0.,\n",
       "       0., 0., 0., 0., 0., 0., 0., 0., 0., 0., 0., 0., 0., 0., 0., 0., 0.,\n",
       "       0., 0., 0., 0., 0., 0., 0., 0., 0., 0., 0., 0., 0., 0., 0., 0., 1.,\n",
       "       1., 1., 1., 1., 1., 1., 1., 1., 1., 1., 1., 1., 1., 1., 1., 1., 1.,\n",
       "       1., 1., 1., 1., 1., 1., 1., 1., 1., 1., 1., 1., 1., 1., 1., 1., 1.,\n",
       "       1., 1., 1., 1., 1., 1., 1., 1., 1., 1., 1., 1., 1., 1., 1.])"
      ]
     },
     "execution_count": 3,
     "metadata": {},
     "output_type": "execute_result"
    }
   ],
   "source": [
    "y_eval"
   ]
  },
  {
   "cell_type": "code",
   "execution_count": 4,
   "metadata": {},
   "outputs": [
    {
     "data": {
      "text/plain": [
       "array([0.08399859, 0.412811  , 0.21189975, 0.06142538, 0.43161616,\n",
       "       0.18927335, 0.99964575, 0.17010505, 0.04514251, 0.3194279 ,\n",
       "       0.81129625, 0.06284147, 0.27767493, 0.17180209, 0.93878039,\n",
       "       0.06151799, 0.21348791, 0.30532183, 0.77643767, 0.17976332,\n",
       "       0.25352692, 0.0459576 , 0.19087675, 0.36250053, 0.11593763,\n",
       "       0.30325139, 0.41701095, 0.03639514, 0.03275611, 0.12500342,\n",
       "       0.04880829, 0.08186472, 0.04172528, 0.22817874, 0.73615275,\n",
       "       0.35993901, 0.07442276, 0.46623943, 0.1010201 , 0.04908436,\n",
       "       0.23949695, 0.42676479, 0.07967986, 0.09601366, 0.91430547,\n",
       "       0.04386883, 0.16445557, 0.0868558 , 0.07186776, 0.24080634,\n",
       "       0.9997959 , 0.1933066 , 0.99967111, 0.38957531, 0.85169276,\n",
       "       0.89676174, 0.72009878, 0.60520636, 0.64272039, 0.94965382,\n",
       "       0.82749095, 0.84297048, 0.1820872 , 0.88067412, 0.96439945,\n",
       "       0.65141453, 0.82881733, 0.99860135, 0.37939841, 0.94817881,\n",
       "       0.97739293, 0.31186734, 0.63002966, 0.42625433, 0.80199651,\n",
       "       0.99126123, 0.71024086, 0.47026977, 0.98198093, 0.2499375 ,\n",
       "       0.16031543, 0.99985949, 0.96810968, 0.93427884, 0.50855299,\n",
       "       0.87791462, 0.80460538, 0.6497507 , 0.75242497, 0.99994514,\n",
       "       0.23434998, 0.71459358, 0.69520809, 0.8040461 , 0.83529111,\n",
       "       0.52210338, 0.50305916, 0.72321634, 0.99793693, 0.41429195])"
      ]
     },
     "execution_count": 4,
     "metadata": {},
     "output_type": "execute_result"
    }
   ],
   "source": [
    "y_pred"
   ]
  },
  {
   "cell_type": "code",
   "execution_count": 9,
   "metadata": {},
   "outputs": [
    {
     "name": "stderr",
     "output_type": "stream",
     "text": [
      "/opt/anaconda3/envs/XCS229/lib/python3.6/site-packages/ipykernel_launcher.py:1: RuntimeWarning: divide by zero encountered in true_divide\n",
      "  \"\"\"Entry point for launching an IPython kernel.\n"
     ]
    },
    {
     "data": {
      "text/plain": [
       "inf"
      ]
     },
     "execution_count": 9,
     "metadata": {},
     "output_type": "execute_result"
    }
   ],
   "source": [
    "np.mean()"
   ]
  },
  {
   "cell_type": "code",
   "execution_count": null,
   "metadata": {},
   "outputs": [],
   "source": [
    "util.plot(x_eval,y_eval)"
   ]
  },
  {
   "cell_type": "code",
   "execution_count": 12,
   "metadata": {},
   "outputs": [],
   "source": [
    "train_path='ds1_train.csv'\n",
    "valid_path='ds1_valid.csv'\n",
    "save_path='gda_pred_1.txt'\n",
    "x_train, y_train = util.load_dataset(train_path, add_intercept=False)\n",
    "x_eval, y_eval = util.load_dataset(valid_path, add_intercept=False)"
   ]
  },
  {
   "cell_type": "code",
   "execution_count": 7,
   "metadata": {},
   "outputs": [],
   "source": [
    "gda_model = gda.GDA()"
   ]
  },
  {
   "cell_type": "code",
   "execution_count": 8,
   "metadata": {},
   "outputs": [],
   "source": [
    "gda_model.fit(x_train,y_train)"
   ]
  },
  {
   "cell_type": "code",
   "execution_count": 11,
   "metadata": {},
   "outputs": [
    {
     "data": {
      "text/plain": [
       "(3, 1)"
      ]
     },
     "execution_count": 11,
     "metadata": {},
     "output_type": "execute_result"
    }
   ],
   "source": [
    "np.concatenate(gda_model.theta).shape"
   ]
  },
  {
   "cell_type": "code",
   "execution_count": 13,
   "metadata": {},
   "outputs": [
    {
     "data": {
      "text/plain": [
       "(100, 2)"
      ]
     },
     "execution_count": 13,
     "metadata": {},
     "output_type": "execute_result"
    }
   ],
   "source": [
    "x_eval.shape"
   ]
  },
  {
   "cell_type": "code",
   "execution_count": 14,
   "metadata": {},
   "outputs": [
    {
     "data": {
      "text/plain": [
       "(800, 2)"
      ]
     },
     "execution_count": 14,
     "metadata": {},
     "output_type": "execute_result"
    }
   ],
   "source": [
    "x_train.shape"
   ]
  },
  {
   "cell_type": "code",
   "execution_count": 4,
   "metadata": {},
   "outputs": [
    {
     "data": {
      "image/png": "[encoded data removed]",
      "text/plain": [
       "<Figure size 432x288 with 1 Axes>"
      ]
     },
     "metadata": {
      "needs_background": "light"
     },
     "output_type": "display_data"
    }
   ],
   "source": [
    "gdaWORKING.main(train_path='ds1_train.csv',\n",
    "         valid_path='ds1_valid.csv',\n",
    "         save_path='gda_pred_1.txt')"
   ]
  },
  {
   "cell_type": "code",
   "execution_count": null,
   "metadata": {},
   "outputs": [],
   "source": []
  }
 ],
 "metadata": {
  "kernelspec": {
   "display_name": "XCS229",
   "language": "python",
   "name": "xcs229"
  },
  "language_info": {
   "codemirror_mode": {
    "name": "ipython",
    "version": 3
   },
   "file_extension": ".py",
   "mimetype": "text/x-python",
   "name": "python",
   "nbconvert_exporter": "python",
   "pygments_lexer": "ipython3",
   "version": "3.6.6"
  }
 },
 "nbformat": 4,
 "nbformat_minor": 4
}
