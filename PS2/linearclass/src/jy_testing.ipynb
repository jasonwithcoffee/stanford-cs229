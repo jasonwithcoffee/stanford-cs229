{
 "cells": [
  {
   "cell_type": "code",
   "execution_count": 1,
   "metadata": {},
   "outputs": [],
   "source": [
    "import numpy as np\n",
    "import util\n",
    "import logregWORKING, gdaWORKING"
   ]
  },
  {
   "cell_type": "code",
   "execution_count": 6,
   "metadata": {},
   "outputs": [],
   "source": [
    "valid_path='ds1_valid.csv'\n",
    "x_eval, y_eval = util.load_dataset(valid_path, add_intercept=True)"
   ]
  },
  {
   "cell_type": "code",
   "execution_count": 7,
   "metadata": {},
   "outputs": [
    {
     "data": {
      "text/plain": [
       "(800, 2)"
      ]
     },
     "execution_count": 7,
     "metadata": {},
     "output_type": "execute_result"
    }
   ],
   "source": [
    "x_train.shape"
   ]
  },
  {
   "cell_type": "code",
   "execution_count": 6,
   "metadata": {},
   "outputs": [
    {
     "data": {
      "text/plain": [
       "(100, 2)"
      ]
     },
     "execution_count": 6,
     "metadata": {},
     "output_type": "execute_result"
    }
   ],
   "source": [
    "x_eval.shape"
   ]
  },
  {
   "cell_type": "code",
   "execution_count": 4,
   "metadata": {},
   "outputs": [
    {
     "name": "stdout",
     "output_type": "stream",
     "text": [
      "[-2.09673805  0.86635163  0.82818917]\n"
     ]
    },
    {
     "data": {
      "image/png": "[encoded data removed]",
      "text/plain": [
       "<Figure size 432x288 with 1 Axes>"
      ]
     },
     "metadata": {
      "needs_background": "light"
     },
     "output_type": "display_data"
    }
   ],
   "source": [
    "logregWORKING.main(train_path='ds2_train.csv',\n",
    "         valid_path='ds2_valid.csv',\n",
    "         save_path='logreg_pred_2.txt')"
   ]
  },
  {
   "cell_type": "code",
   "execution_count": 4,
   "metadata": {},
   "outputs": [],
   "source": [
    "train_path='ds1_train.csv'\n",
    "valid_path='ds1_valid.csv'\n",
    "save_path='gda_pred_1.txt'\n",
    "x_train, y_train = util.load_dataset(train_path, add_intercept=False)\n",
    "x_eval, y_eval = util.load_dataset(valid_path, add_intercept=False)"
   ]
  },
  {
   "cell_type": "code",
   "execution_count": 7,
   "metadata": {},
   "outputs": [],
   "source": [
    "gda_model = gda.GDA()"
   ]
  },
  {
   "cell_type": "code",
   "execution_count": 8,
   "metadata": {},
   "outputs": [],
   "source": [
    "gda_model.fit(x_train,y_train)"
   ]
  },
  {
   "cell_type": "code",
   "execution_count": 11,
   "metadata": {},
   "outputs": [
    {
     "data": {
      "text/plain": [
       "(3, 1)"
      ]
     },
     "execution_count": 11,
     "metadata": {},
     "output_type": "execute_result"
    }
   ],
   "source": [
    "np.concatenate(gda_model.theta).shape"
   ]
  },
  {
   "cell_type": "code",
   "execution_count": 13,
   "metadata": {},
   "outputs": [
    {
     "data": {
      "text/plain": [
       "(100, 2)"
      ]
     },
     "execution_count": 13,
     "metadata": {},
     "output_type": "execute_result"
    }
   ],
   "source": [
    "x_eval.shape"
   ]
  },
  {
   "cell_type": "code",
   "execution_count": 14,
   "metadata": {},
   "outputs": [
    {
     "data": {
      "text/plain": [
       "(800, 2)"
      ]
     },
     "execution_count": 14,
     "metadata": {},
     "output_type": "execute_result"
    }
   ],
   "source": [
    "x_train.shape"
   ]
  },
  {
   "cell_type": "code",
   "execution_count": 3,
   "metadata": {},
   "outputs": [
    {
     "data": {
      "image/png": "[encoded data removed]",
      "text/plain": [
       "<Figure size 432x288 with 1 Axes>"
      ]
     },
     "metadata": {
      "needs_background": "light"
     },
     "output_type": "display_data"
    }
   ],
   "source": [
    "gdaWORKING.main(train_path='ds1_train.csv',\n",
    "         valid_path='ds1_valid.csv',\n",
    "         save_path='gda_pred_1.txt')"
   ]
  },
  {
   "cell_type": "code",
   "execution_count": 5,
   "metadata": {},
   "outputs": [
    {
     "data": {
      "text/plain": [
       "array([[0.41180854, 1.10552487],\n",
       "       [1.27474554, 6.30331401],\n",
       "       [0.11548828, 3.26425138],\n",
       "       ...,\n",
       "       [0.96909526, 4.51838094],\n",
       "       [1.95753102, 6.08296767],\n",
       "       [2.02533402, 2.72958809]])"
      ]
     },
     "execution_count": 5,
     "metadata": {},
     "output_type": "execute_result"
    }
   ],
   "source": [
    "x_train"
   ]
  },
  {
   "cell_type": "code",
   "execution_count": 6,
   "metadata": {},
   "outputs": [
    {
     "name": "stderr",
     "output_type": "stream",
     "text": [
      "/opt/anaconda3/envs/XCS229/lib/python3.6/site-packages/ipykernel_launcher.py:1: RuntimeWarning: invalid value encountered in log\n",
      "  \"\"\"Entry point for launching an IPython kernel.\n"
     ]
    },
    {
     "data": {
      "text/plain": [
       "array([[-0.88719675,  0.10032022],\n",
       "       [ 0.24274658,  1.84107553],\n",
       "       [-2.15858619,  1.18303045],\n",
       "       ...,\n",
       "       [-0.03139236,  1.50815373],\n",
       "       [ 0.671684  ,  1.80549268],\n",
       "       [ 0.70573464,  1.00415072]])"
      ]
     },
     "execution_count": 6,
     "metadata": {},
     "output_type": "execute_result"
    }
   ],
   "source": [
    "np.log(x_train)"
   ]
  },
  {
   "cell_type": "code",
   "execution_count": 9,
   "metadata": {},
   "outputs": [],
   "source": [
    "lr = gdaWORKING.GDA()\n",
    "lr.fit(x_eval,y_eval)\n",
    "lr_theta = lr.theta"
   ]
  },
  {
   "cell_type": "code",
   "execution_count": 10,
   "metadata": {},
   "outputs": [
    {
     "data": {
      "text/plain": [
       "[array([[-2.07594184]]),\n",
       " array([[1.63135483],\n",
       "        [0.01144515]])]"
      ]
     },
     "execution_count": 10,
     "metadata": {},
     "output_type": "execute_result"
    }
   ],
   "source": []
  },
  {
   "cell_type": "code",
   "execution_count": 16,
   "metadata": {},
   "outputs": [
    {
     "data": {
      "text/plain": [
       "array([[-0.3226045 ,  1.44016009],\n",
       "       [ 1.45213116,  2.26274285],\n",
       "       [ 0.85117646,  0.87461786],\n",
       "       [-0.42506633,  0.49448067],\n",
       "       [ 1.07977541,  4.15222455],\n",
       "       [ 0.06839514,  3.60693507],\n",
       "       [ 3.86229163, 25.99079097],\n",
       "       [ 0.63078087,  0.69715553],\n",
       "       [-0.64119999,  0.07896407],\n",
       "       [ 0.53135242,  4.50417546],\n",
       "       [ 2.19032426,  6.54381687],\n",
       "       [-0.38465533,  0.42296288],\n",
       "       [ 0.21679465,  5.01812571],\n",
       "       [ 0.4846679 ,  1.36387124],\n",
       "       [ 2.39608694, 10.87208984],\n",
       "       [-0.51197311,  0.86848666],\n",
       "       [ 0.61284557,  1.92105571],\n",
       "       [ 1.20247   ,  1.39818937],\n",
       "       [ 2.48716225,  4.41633191],\n",
       "       [ 0.27191322,  2.48805513],\n",
       "       [ 0.46650294,  3.4560205 ],\n",
       "       [-0.77155423,  0.70674626],\n",
       "       [ 0.74548073,  0.78677636],\n",
       "       [ 1.34588118,  1.84466679],\n",
       "       [ 0.03825659,  1.37679837],\n",
       "       [ 0.97144296,  2.33499786],\n",
       "       [ 0.73578508,  5.36219354],\n",
       "       [-0.98294485,  0.60613226],\n",
       "       [-1.06748414,  0.51752952],\n",
       "       [ 0.16444179,  1.19318199],\n",
       "       [-0.7898848 ,  1.0424866 ],\n",
       "       [-0.14329976,  0.56735751],\n",
       "       [-0.82024735,  0.49960062],\n",
       "       [ 0.66933574,  2.03132583],\n",
       "       [ 2.18580501,  4.79542536],\n",
       "       [ 1.24524603,  2.22477477],\n",
       "       [-0.38608243,  1.17125926],\n",
       "       [ 1.97265966,  0.94942542],\n",
       "       [ 0.11536834,  0.41934752],\n",
       "       [-0.62494875,  0.36937505],\n",
       "       [ 0.73560961,  2.00940088],\n",
       "       [ 1.79850535,  1.03246785],\n",
       "       [-0.14833684,  0.46835912],\n",
       "       [-0.09403357,  1.07422495],\n",
       "       [ 1.95126591, 11.27001531],\n",
       "       [-0.76667657,  0.48703998],\n",
       "       [ 0.53937355,  0.91782734],\n",
       "       [-0.22698133,  1.18536598],\n",
       "       [-0.39058305,  1.03621699],\n",
       "       [ 0.96225877,  1.0804548 ],\n",
       "       [ 2.87853267, 32.40471731],\n",
       "       [ 0.63533685,  1.31647006],\n",
       "       [ 2.44918624, 32.26914179],\n",
       "       [ 1.55800428,  1.41965492],\n",
       "       [ 1.58703176, 10.27789785],\n",
       "       [ 2.92302652,  6.32084127],\n",
       "       [ 1.16179168,  8.79339693],\n",
       "       [ 1.01926912,  7.27956453],\n",
       "       [ 1.64074981,  5.30590931],\n",
       "       [ 2.1625751 , 12.70579893],\n",
       "       [ 2.20355391,  6.93546526],\n",
       "       [ 1.80281512,  9.08987516],\n",
       "       [ 0.38185288,  2.08733116],\n",
       "       [ 2.73898669,  6.43298261],\n",
       "       [ 2.33229757, 13.46785592],\n",
       "       [ 2.1515753 ,  3.30175484],\n",
       "       [ 2.08755952,  7.46399068],\n",
       "       [ 2.42536537, 26.4483108 ],\n",
       "       [ 1.22952296,  2.63268864],\n",
       "       [ 2.29617283, 12.01655075],\n",
       "       [ 3.30064721, 11.28460368],\n",
       "       [ 0.98606951,  2.43854265],\n",
       "       [ 1.71111559,  4.78419937],\n",
       "       [ 1.43791364,  2.54852746],\n",
       "       [ 2.06546113,  6.82796588],\n",
       "       [ 2.6042525 , 18.17196626],\n",
       "       [ 2.56193154,  2.67573402],\n",
       "       [ 1.67306091,  2.28230367],\n",
       "       [ 3.07760672, 13.17400532],\n",
       "       [ 0.80343565,  1.95356398],\n",
       "       [ 0.29409223,  1.8304515 ],\n",
       "       [ 4.17743477, 28.43916382],\n",
       "       [ 2.20240356, 14.48263971],\n",
       "       [ 2.75638736,  9.03904178],\n",
       "       [ 1.59509206,  3.23851668],\n",
       "       [ 2.31360137,  8.12523688],\n",
       "       [ 2.25188961,  6.10723549],\n",
       "       [ 1.74848706,  4.97610269],\n",
       "       [ 1.94191761,  6.17617417],\n",
       "       [ 3.23970139, 36.2488673 ],\n",
       "       [ 0.77654359,  1.719952  ],\n",
       "       [ 1.53339444,  7.11126102],\n",
       "       [ 1.44950114,  7.08491125],\n",
       "       [ 1.62476639,  8.74420153],\n",
       "       [ 1.96366438,  8.17721712],\n",
       "       [ 1.79561844,  2.61247159],\n",
       "       [ 1.95348024,  1.6333998 ],\n",
       "       [ 1.86352418,  5.88989936],\n",
       "       [ 2.91729395, 22.77683958],\n",
       "       [ 1.31972857,  2.84750546]])"
      ]
     },
     "execution_count": 16,
     "metadata": {},
     "output_type": "execute_result"
    }
   ],
   "source": [
    "x_eval"
   ]
  },
  {
   "cell_type": "code",
   "execution_count": 17,
   "metadata": {},
   "outputs": [],
   "source": [
    "x_test = x_eval\n",
    "x_test[:,1] = np.log(x_eval[:,1])"
   ]
  },
  {
   "cell_type": "code",
   "execution_count": 18,
   "metadata": {},
   "outputs": [
    {
     "data": {
      "text/plain": [
       "array([[-0.3226045 ,  0.36475428],\n",
       "       [ 1.45213116,  0.81657773],\n",
       "       [ 0.85117646, -0.13396822],\n",
       "       [-0.42506633, -0.70424722],\n",
       "       [ 1.07977541,  1.42364423],\n",
       "       [ 0.06839514,  1.2828584 ],\n",
       "       [ 3.86229163,  3.25774228],\n",
       "       [ 0.63078087, -0.36074675],\n",
       "       [-0.64119999, -2.53876229],\n",
       "       [ 0.53135242,  1.50500485],\n",
       "       [ 2.19032426,  1.87852061],\n",
       "       [-0.38465533, -0.86047085],\n",
       "       [ 0.21679465,  1.6130565 ],\n",
       "       [ 0.4846679 ,  0.31032715],\n",
       "       [ 2.39608694,  2.38619894],\n",
       "       [-0.51197311, -0.14100305],\n",
       "       [ 0.61284557,  0.65287489],\n",
       "       [ 1.20247   ,  0.3351781 ],\n",
       "       [ 2.48716225,  1.48530947],\n",
       "       [ 0.27191322,  0.91150133],\n",
       "       [ 0.46650294,  1.24011778],\n",
       "       [-0.77155423, -0.34708357],\n",
       "       [ 0.74548073, -0.23981124],\n",
       "       [ 1.34588118,  0.61229866],\n",
       "       [ 0.03825659,  0.31976079],\n",
       "       [ 0.97144296,  0.84801097],\n",
       "       [ 0.73578508,  1.67937313],\n",
       "       [-0.98294485, -0.50065707],\n",
       "       [-1.06748414, -0.6586887 ],\n",
       "       [ 0.16444179,  0.17662368],\n",
       "       [-0.7898848 ,  0.04160883],\n",
       "       [-0.14329976, -0.56676565],\n",
       "       [-0.82024735, -0.69394625],\n",
       "       [ 0.66933574,  0.7086887 ],\n",
       "       [ 2.18580501,  1.56766241],\n",
       "       [ 1.24524603,  0.79965568],\n",
       "       [-0.38608243,  0.15807946],\n",
       "       [ 1.97265966, -0.05189829],\n",
       "       [ 0.11536834, -0.86905531],\n",
       "       [-0.62494875, -0.99594275],\n",
       "       [ 0.73560961,  0.69783661],\n",
       "       [ 1.79850535,  0.03195191],\n",
       "       [-0.14833684, -0.75851992],\n",
       "       [-0.09403357,  0.07159943],\n",
       "       [ 1.95126591,  2.42214569],\n",
       "       [-0.76667657, -0.71940907],\n",
       "       [ 0.53937355, -0.08574598],\n",
       "       [-0.22698133,  0.17005157],\n",
       "       [-0.39058305,  0.03557657],\n",
       "       [ 0.96225877,  0.07738207],\n",
       "       [ 2.87853267,  3.47830401],\n",
       "       [ 0.63533685,  0.27495395],\n",
       "       [ 2.44918624,  3.47411141],\n",
       "       [ 1.55800428,  0.35041383],\n",
       "       [ 1.58703176,  2.32999575],\n",
       "       [ 2.92302652,  1.84385231],\n",
       "       [ 1.16179168,  2.17400109],\n",
       "       [ 1.01926912,  1.98507104],\n",
       "       [ 1.64074981,  1.66882116],\n",
       "       [ 2.1625751 ,  2.5420585 ],\n",
       "       [ 2.20355391,  1.93664814],\n",
       "       [ 1.80281512,  2.20716117],\n",
       "       [ 0.38185288,  0.73588629],\n",
       "       [ 2.73898669,  1.86143829],\n",
       "       [ 2.33229757,  2.6003058 ],\n",
       "       [ 2.1515753 ,  1.1944541 ],\n",
       "       [ 2.08755952,  2.01009021],\n",
       "       [ 2.42536537,  3.27519229],\n",
       "       [ 1.22952296,  0.96800562],\n",
       "       [ 2.29617283,  2.48628493],\n",
       "       [ 3.30064721,  2.42343929],\n",
       "       [ 0.98606951,  0.89140059],\n",
       "       [ 1.71111559,  1.56531869],\n",
       "       [ 1.43791364,  0.93551572],\n",
       "       [ 2.06546113,  1.92102681],\n",
       "       [ 2.6042525 ,  2.89988009],\n",
       "       [ 2.56193154,  0.98422374],\n",
       "       [ 1.67306091,  0.82518531],\n",
       "       [ 3.07760672,  2.57824559],\n",
       "       [ 0.80343565,  0.66965539],\n",
       "       [ 0.29409223,  0.60456266],\n",
       "       [ 4.17743477,  3.3477672 ],\n",
       "       [ 2.20240356,  2.67295067],\n",
       "       [ 2.75638736,  2.20155317],\n",
       "       [ 1.59509206,  1.17511541],\n",
       "       [ 2.31360137,  2.09497488],\n",
       "       [ 2.25188961,  1.80947421],\n",
       "       [ 1.74848706,  1.60464699],\n",
       "       [ 1.94191761,  1.82069901],\n",
       "       [ 3.23970139,  3.59040813],\n",
       "       [ 0.77654359,  0.54229638],\n",
       "       [ 1.53339444,  1.96167959],\n",
       "       [ 1.44950114,  1.95796735],\n",
       "       [ 1.62476639,  2.1683908 ],\n",
       "       [ 1.96366438,  2.10135189],\n",
       "       [ 1.79561844,  0.96029674],\n",
       "       [ 1.95348024,  0.49066361],\n",
       "       [ 1.86352418,  1.77323891],\n",
       "       [ 2.91729395,  3.12574421],\n",
       "       [ 1.31972857,  1.04644334]])"
      ]
     },
     "execution_count": 18,
     "metadata": {},
     "output_type": "execute_result"
    }
   ],
   "source": [
    "x_test"
   ]
  },
  {
   "cell_type": "code",
   "execution_count": 20,
   "metadata": {},
   "outputs": [
    {
     "ename": "IndexError",
     "evalue": "index 2 is out of bounds for axis 0 with size 2",
     "output_type": "error",
     "traceback": [
      "\u001b[0;31m---------------------------------------------------------------------------\u001b[0m",
      "\u001b[0;31mIndexError\u001b[0m                                Traceback (most recent call last)",
      "\u001b[0;32m<ipython-input-20-5424e9cb3e96>\u001b[0m in \u001b[0;36m<module>\u001b[0;34m\u001b[0m\n\u001b[0;32m----> 1\u001b[0;31m \u001b[0mutil\u001b[0m\u001b[0;34m.\u001b[0m\u001b[0mplot\u001b[0m\u001b[0;34m(\u001b[0m\u001b[0mx\u001b[0m\u001b[0;34m=\u001b[0m\u001b[0mx_test\u001b[0m\u001b[0;34m,\u001b[0m \u001b[0my\u001b[0m\u001b[0;34m=\u001b[0m\u001b[0my_eval\u001b[0m\u001b[0;34m,\u001b[0m \u001b[0mtheta\u001b[0m\u001b[0;34m=\u001b[0m\u001b[0mnp\u001b[0m\u001b[0;34m.\u001b[0m\u001b[0msqueeze\u001b[0m\u001b[0;34m(\u001b[0m\u001b[0mlr_theta\u001b[0m\u001b[0;34m,\u001b[0m\u001b[0;36m1\u001b[0m\u001b[0;34m)\u001b[0m\u001b[0;34m,\u001b[0m \u001b[0msave_path\u001b[0m\u001b[0;34m=\u001b[0m\u001b[0;34m'test'\u001b[0m\u001b[0;34m)\u001b[0m\u001b[0;34m\u001b[0m\u001b[0m\n\u001b[0m",
      "\u001b[0;32m~/Documents/GitHub/XCS229i-PS2/linearclass/src/util.py\u001b[0m in \u001b[0;36mplot\u001b[0;34m(x, y, theta, save_path, correction)\u001b[0m\n\u001b[1;32m     79\u001b[0m     \u001b[0mx1\u001b[0m \u001b[0;34m=\u001b[0m \u001b[0mnp\u001b[0m\u001b[0;34m.\u001b[0m\u001b[0marange\u001b[0m\u001b[0;34m(\u001b[0m\u001b[0mmin\u001b[0m\u001b[0;34m(\u001b[0m\u001b[0mx\u001b[0m\u001b[0;34m[\u001b[0m\u001b[0;34m:\u001b[0m\u001b[0;34m,\u001b[0m \u001b[0;34m-\u001b[0m\u001b[0;36m2\u001b[0m\u001b[0;34m]\u001b[0m\u001b[0;34m)\u001b[0m\u001b[0;34m,\u001b[0m \u001b[0mmax\u001b[0m\u001b[0;34m(\u001b[0m\u001b[0mx\u001b[0m\u001b[0;34m[\u001b[0m\u001b[0;34m:\u001b[0m\u001b[0;34m,\u001b[0m \u001b[0;34m-\u001b[0m\u001b[0;36m2\u001b[0m\u001b[0;34m]\u001b[0m\u001b[0;34m)\u001b[0m\u001b[0;34m,\u001b[0m \u001b[0;36m0.01\u001b[0m\u001b[0;34m)\u001b[0m\u001b[0;34m\u001b[0m\u001b[0m\n\u001b[1;32m     80\u001b[0m     x2 = -(theta[0] / theta[2] + theta[1] / theta[2] * x1\n\u001b[0;32m---> 81\u001b[0;31m            + np.log((2 - correction) / correction) / theta[2])\n\u001b[0m\u001b[1;32m     82\u001b[0m     \u001b[0mplt\u001b[0m\u001b[0;34m.\u001b[0m\u001b[0mplot\u001b[0m\u001b[0;34m(\u001b[0m\u001b[0mx1\u001b[0m\u001b[0;34m,\u001b[0m \u001b[0mx2\u001b[0m\u001b[0;34m,\u001b[0m \u001b[0mc\u001b[0m\u001b[0;34m=\u001b[0m\u001b[0;34m'red'\u001b[0m\u001b[0;34m,\u001b[0m \u001b[0mlinewidth\u001b[0m\u001b[0;34m=\u001b[0m\u001b[0;36m2\u001b[0m\u001b[0;34m)\u001b[0m\u001b[0;34m\u001b[0m\u001b[0m\n\u001b[1;32m     83\u001b[0m     \u001b[0mplt\u001b[0m\u001b[0;34m.\u001b[0m\u001b[0mxlim\u001b[0m\u001b[0;34m(\u001b[0m\u001b[0mx\u001b[0m\u001b[0;34m[\u001b[0m\u001b[0;34m:\u001b[0m\u001b[0;34m,\u001b[0m \u001b[0;34m-\u001b[0m\u001b[0;36m2\u001b[0m\u001b[0;34m]\u001b[0m\u001b[0;34m.\u001b[0m\u001b[0mmin\u001b[0m\u001b[0;34m(\u001b[0m\u001b[0;34m)\u001b[0m\u001b[0;34m-\u001b[0m\u001b[0;36m.1\u001b[0m\u001b[0;34m,\u001b[0m \u001b[0mx\u001b[0m\u001b[0;34m[\u001b[0m\u001b[0;34m:\u001b[0m\u001b[0;34m,\u001b[0m \u001b[0;34m-\u001b[0m\u001b[0;36m2\u001b[0m\u001b[0;34m]\u001b[0m\u001b[0;34m.\u001b[0m\u001b[0mmax\u001b[0m\u001b[0;34m(\u001b[0m\u001b[0;34m)\u001b[0m\u001b[0;34m+\u001b[0m\u001b[0;36m.1\u001b[0m\u001b[0;34m)\u001b[0m\u001b[0;34m\u001b[0m\u001b[0m\n",
      "\u001b[0;31mIndexError\u001b[0m: index 2 is out of bounds for axis 0 with size 2"
     ]
    },
    {
     "data": {
      "image/png": "[encoded data removed]",
      "text/plain": [
       "<Figure size 432x288 with 1 Axes>"
      ]
     },
     "metadata": {
      "needs_background": "light"
     },
     "output_type": "display_data"
    }
   ],
   "source": [
    "util.plot(x=x_test, y=y_eval, theta=np.squeeze(lr_theta,1), save_path='test')"
   ]
  },
  {
   "cell_type": "code",
   "execution_count": null,
   "metadata": {},
   "outputs": [],
   "source": []
  }
 ],
 "metadata": {
  "kernelspec": {
   "display_name": "XCS229",
   "language": "python",
   "name": "xcs229"
  },
  "language_info": {
   "codemirror_mode": {
    "name": "ipython",
    "version": 3
   },
   "file_extension": ".py",
   "mimetype": "text/x-python",
   "name": "python",
   "nbconvert_exporter": "python",
   "pygments_lexer": "ipython3",
   "version": "3.6.6"
  }
 },
 "nbformat": 4,
 "nbformat_minor": 4
}
