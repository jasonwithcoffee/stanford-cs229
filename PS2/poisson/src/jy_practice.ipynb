{
 "cells": [
  {
   "cell_type": "code",
   "execution_count": 1,
   "metadata": {},
   "outputs": [],
   "source": [
    "import numpy as np\n",
    "import util"
   ]
  },
  {
   "cell_type": "code",
   "execution_count": 32,
   "metadata": {},
   "outputs": [],
   "source": [
    "train_path='train.csv'\n",
    "valid_path = 'valid.csv'\n",
    "x_train, y_train = util.load_dataset(train_path, add_intercept=True)\n",
    "x_eval, y_eval = util.load_dataset(valid_path, add_intercept=True)"
   ]
  },
  {
   "cell_type": "code",
   "execution_count": 4,
   "metadata": {},
   "outputs": [
    {
     "data": {
      "text/plain": [
       "array([[1.        , 1.        , 0.        , 2.97614241, 0.65148205],\n",
       "       [1.        , 0.        , 1.        , 1.4113903 , 0.74373156],\n",
       "       [1.        , 0.        , 1.        , 1.03989184, 1.2905879 ],\n",
       "       ...,\n",
       "       [1.        , 0.        , 1.        , 1.49124324, 0.84115559],\n",
       "       [1.        , 0.        , 1.        , 2.8631773 , 1.13793409],\n",
       "       [1.        , 0.        , 1.        , 1.82561719, 0.05930945]])"
      ]
     },
     "execution_count": 4,
     "metadata": {},
     "output_type": "execute_result"
    }
   ],
   "source": [
    "x_train"
   ]
  },
  {
   "cell_type": "code",
   "execution_count": 33,
   "metadata": {},
   "outputs": [],
   "source": [
    "class PoissonRegression:\n",
    "    \"\"\"Poisson Regression.\n",
    "\n",
    "    Example usage:\n",
    "        > clf = PoissonRegression(step_size=lr)\n",
    "        > clf.fit(x_train, y_train)\n",
    "        > clf.predict(x_eval)\n",
    "    \"\"\"\n",
    "\n",
    "    def __init__(self, step_size=1e-5, max_iter=10000000, eps=1e-5,\n",
    "                 theta_0=None, verbose=True):\n",
    "        \"\"\"\n",
    "        Args:\n",
    "            step_size: Step size for iterative solvers only.\n",
    "            max_iter: Maximum number of iterations for the solver.\n",
    "            eps: Threshold for determining convergence.\n",
    "            theta_0: Initial guess for theta. If None, use the zero vector.\n",
    "            verbose: Print loss values during training.\n",
    "        \"\"\"\n",
    "        self.theta = theta_0\n",
    "        self.step_size = step_size\n",
    "        self.max_iter = max_iter\n",
    "        self.eps = eps\n",
    "        self.verbose = verbose\n",
    "\n",
    "    def fit(self, x, y):\n",
    "        \"\"\"Run gradient ascent to maximize likelihood for Poisson regression.\n",
    "\n",
    "        Args:\n",
    "            x: Training example inputs. Shape (n_examples, dim).\n",
    "            y: Training example labels. Shape (n_examples,).\n",
    "        \"\"\"\n",
    "        # *** START CODE HERE ***\n",
    "        n, d = x.shape\n",
    "        if self.theta is None:\n",
    "            self.theta = np.zeros(d)\n",
    "\n",
    "        step = 0\n",
    "        diff = 0.1\n",
    "        while step <= self.max_iter and diff >= self.eps:\n",
    "            theta_prev = self.theta.copy()\n",
    "            eta = np.matmul(x, self.theta)\n",
    "            update = np.matmul((y-np.exp(eta)),x)\n",
    "            self.theta += self.step_size*update\n",
    "            \n",
    "            diff = np.linalg.norm(self.theta - theta_prev)\n",
    "            step += 1\n",
    "            \n",
    "#             self.theta += self.step_size*(y-np.exp(eta))\n",
    "\n",
    "        \n",
    "        # *** END CODE HERE ***\n",
    "\n",
    "    def predict(self, x):\n",
    "        \"\"\"Make a prediction given inputs x.\n",
    "\n",
    "        Args:\n",
    "            x: Inputs of shape (n_examples, dim).\n",
    "\n",
    "        Returns:\n",
    "            Floating-point prediction for each input, shape (n_examples,).\n",
    "        \"\"\"\n",
    "        # *** START CODE HERE ***\n",
    "        eta = np.matmul(x, self.theta)\n",
    "        y_pred = np.exp(eta)\n",
    "        return y_pred\n",
    "        # *** END CODE HERE ***"
   ]
  },
  {
   "cell_type": "code",
   "execution_count": 34,
   "metadata": {},
   "outputs": [],
   "source": [
    "clf = PoissonRegression()"
   ]
  },
  {
   "cell_type": "code",
   "execution_count": 35,
   "metadata": {},
   "outputs": [],
   "source": [
    "clf.fit(x_train,y_train)"
   ]
  },
  {
   "cell_type": "code",
   "execution_count": 36,
   "metadata": {},
   "outputs": [
    {
     "data": {
      "text/plain": [
       "array([0.94784589, 0.50502207, 0.44282382, 0.28191488, 0.40006766])"
      ]
     },
     "execution_count": 36,
     "metadata": {},
     "output_type": "execute_result"
    }
   ],
   "source": [
    "clf.theta"
   ]
  },
  {
   "cell_type": "code",
   "execution_count": 37,
   "metadata": {},
   "outputs": [
    {
     "data": {
      "text/plain": [
       "array([ 9.6994769 ,  7.15980712, 11.75753663,  7.31602849, 17.61128888,\n",
       "        6.24270577,  7.64730369,  8.11447304,  8.75235474,  6.3521577 ,\n",
       "        5.43868717,  6.74570082,  8.24325121,  9.51519315,  9.06942881,\n",
       "        9.59675288,  8.69959986, 12.46853992,  9.11064225,  9.51640579,\n",
       "        7.47002468, 11.12809987,  8.38274106,  6.98856604,  6.06668161,\n",
       "        5.82889038, 14.79465438,  6.12179143, 14.11193994,  5.40749561,\n",
       "        9.76835409,  7.96141416,  7.63766028, 11.16028932, 10.40672254,\n",
       "       12.57720436,  8.41271795,  6.82063097, 10.24051735,  5.73448579,\n",
       "        4.6885167 , 12.54264504,  6.6219376 ,  8.74520804, 15.09063191,\n",
       "       10.30687783, 10.07599363,  7.43852405,  8.16559207, 11.91389883,\n",
       "        7.63448704,  9.093541  ,  9.99806125,  6.3853314 , 13.52198568,\n",
       "        7.6656791 ,  6.8569351 , 10.22093235,  9.57622082,  9.91189675,\n",
       "        7.27702868,  7.94532484, 13.95853286,  6.5807126 , 16.23833692,\n",
       "        6.47840802,  8.43491512,  5.67997835, 13.08658609,  8.39402656,\n",
       "        5.72867307, 14.17444779,  7.92137123, 10.42798001, 13.09056592,\n",
       "       13.71271628,  5.91027267, 12.20312098,  7.02785113,  7.01661376,\n",
       "       10.89327376, 11.058732  , 14.93140594,  4.9097887 ,  4.90271204,\n",
       "        7.90898298, 19.8653738 ,  4.03615479, 15.74568536,  9.18357478,\n",
       "        6.06971022,  7.01608441,  7.70147784,  5.91856477, 15.00246244,\n",
       "        7.35672649,  9.16111787,  9.06299898,  8.82752996, 15.3954938 ,\n",
       "        9.93925377, 17.71516673, 11.05532821, 12.15416266,  9.24537588,\n",
       "        4.30800395,  8.83967042,  6.84526734,  8.59420565, 10.27069406,\n",
       "        7.99837481, 10.07659606,  6.30218441,  9.91213031, 13.30140611,\n",
       "       17.60899856, 13.72486577, 12.04825811,  7.7605059 ,  9.85771164,\n",
       "        9.15269933, 11.06089266,  6.01762264,  8.90420666,  6.14277935,\n",
       "       12.90457351, 12.39957986, 13.66004992,  9.13406888,  7.4842551 ,\n",
       "        5.13345937,  6.23297425,  6.01115484, 14.835199  ,  9.50577238,\n",
       "       12.75529728, 16.80447507,  7.10145723, 10.25637676, 12.13380524,\n",
       "       13.48115433, 10.39476371, 14.53121768, 10.52537931, 17.69679918,\n",
       "        9.42061056, 15.31104753, 12.13312223,  5.41546669,  8.87172814,\n",
       "        8.41591474,  9.02523349, 15.07034483, 12.49726192, 12.01340708,\n",
       "        6.84307461,  7.60538143,  7.97910981,  4.94151563,  5.3069464 ,\n",
       "        4.71129862,  9.16335132,  9.05129421,  8.14096559,  7.4204504 ,\n",
       "       11.47950139, 14.75480525,  7.80190259, 11.18329621, 10.78792518,\n",
       "       15.37502439, 10.01691977,  5.33038113, 11.49828629, 15.85501352,\n",
       "        5.9476157 , 16.59915909, 12.8362908 ,  6.14549815,  9.22308856,\n",
       "       14.91928537, 13.98111505, 10.26578308,  6.65436161,  9.98409731,\n",
       "        8.79778918,  9.07412852,  8.45683067,  7.89840088,  5.3737336 ,\n",
       "       10.30014676, 13.67578578,  6.88460748,  5.89056299,  6.60150195,\n",
       "        6.95572015, 12.34419122, 11.43427488, 11.37494217, 12.83630407,\n",
       "        5.6466456 ,  4.33387174,  5.71694098,  8.87384978,  9.02768194,\n",
       "        6.82877942,  9.97428068,  7.05121107,  7.62494764,  6.80715286,\n",
       "       10.34726933,  5.82820838,  6.84966248,  7.77578229,  4.99025351,\n",
       "        8.99483438,  4.97368917,  8.44848137,  5.23109472,  6.64908307,\n",
       "        9.24389792, 14.18238368, 12.2506605 ,  8.44355658,  7.54158577,\n",
       "       11.09101298, 11.49048143,  8.28693194,  6.30829325, 10.95879391,\n",
       "        8.71445556,  6.47986753, 11.21342829, 11.88261048,  5.68920173,\n",
       "        8.54839723,  6.02715859, 11.01502214, 10.09479242, 18.90693943,\n",
       "        9.38696397,  6.42438731,  9.81758054,  8.85450933, 10.87479787,\n",
       "       11.11015224,  9.0369758 ,  6.75339532, 11.91455831,  9.62726682])"
      ]
     },
     "execution_count": 37,
     "metadata": {},
     "output_type": "execute_result"
    }
   ],
   "source": [
    "clf.predict(x_eval)"
   ]
  },
  {
   "cell_type": "code",
   "execution_count": null,
   "metadata": {},
   "outputs": [],
   "source": []
  }
 ],
 "metadata": {
  "kernelspec": {
   "display_name": "XCS229",
   "language": "python",
   "name": "xcs229"
  },
  "language_info": {
   "codemirror_mode": {
    "name": "ipython",
    "version": 3
   },
   "file_extension": ".py",
   "mimetype": "text/x-python",
   "name": "python",
   "nbconvert_exporter": "python",
   "pygments_lexer": "ipython3",
   "version": "3.6.6"
  }
 },
 "nbformat": 4,
 "nbformat_minor": 4
}
