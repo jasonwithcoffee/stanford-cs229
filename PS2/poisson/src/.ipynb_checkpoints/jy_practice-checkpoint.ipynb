{
 "cells": [
  {
   "cell_type": "code",
   "execution_count": 1,
   "metadata": {},
   "outputs": [],
   "source": [
    "import numpy as np\n",
    "import util"
   ]
  },
  {
   "cell_type": "code",
   "execution_count": 3,
   "metadata": {},
   "outputs": [],
   "source": [
    "train_path='train.csv'\n",
    "x_train, y_train = util.load_dataset(train_path, add_intercept=True)"
   ]
  },
  {
   "cell_type": "code",
   "execution_count": 4,
   "metadata": {},
   "outputs": [
    {
     "data": {
      "text/plain": [
       "array([[1.        , 1.        , 0.        , 2.97614241, 0.65148205],\n",
       "       [1.        , 0.        , 1.        , 1.4113903 , 0.74373156],\n",
       "       [1.        , 0.        , 1.        , 1.03989184, 1.2905879 ],\n",
       "       ...,\n",
       "       [1.        , 0.        , 1.        , 1.49124324, 0.84115559],\n",
       "       [1.        , 0.        , 1.        , 2.8631773 , 1.13793409],\n",
       "       [1.        , 0.        , 1.        , 1.82561719, 0.05930945]])"
      ]
     },
     "execution_count": 4,
     "metadata": {},
     "output_type": "execute_result"
    }
   ],
   "source": [
    "x_train"
   ]
  },
  {
   "cell_type": "code",
   "execution_count": 24,
   "metadata": {},
   "outputs": [],
   "source": [
    "class PoissonRegression:\n",
    "    \"\"\"Poisson Regression.\n",
    "\n",
    "    Example usage:\n",
    "        > clf = PoissonRegression(step_size=lr)\n",
    "        > clf.fit(x_train, y_train)\n",
    "        > clf.predict(x_eval)\n",
    "    \"\"\"\n",
    "\n",
    "    def __init__(self, step_size=1e-5, max_iter=10000000, eps=1e-5,\n",
    "                 theta_0=None, verbose=True):\n",
    "        \"\"\"\n",
    "        Args:\n",
    "            step_size: Step size for iterative solvers only.\n",
    "            max_iter: Maximum number of iterations for the solver.\n",
    "            eps: Threshold for determining convergence.\n",
    "            theta_0: Initial guess for theta. If None, use the zero vector.\n",
    "            verbose: Print loss values during training.\n",
    "        \"\"\"\n",
    "        self.theta = theta_0\n",
    "        self.step_size = step_size\n",
    "        self.max_iter = max_iter\n",
    "        self.eps = eps\n",
    "        self.verbose = verbose\n",
    "\n",
    "    def fit(self, x, y):\n",
    "        \"\"\"Run gradient ascent to maximize likelihood for Poisson regression.\n",
    "\n",
    "        Args:\n",
    "            x: Training example inputs. Shape (n_examples, dim).\n",
    "            y: Training example labels. Shape (n_examples,).\n",
    "        \"\"\"\n",
    "        # *** START CODE HERE ***\n",
    "        n, d = x.shape\n",
    "        if self.theta is None:\n",
    "            self.theta = np.zeros(d)\n",
    "\n",
    "        step = 0\n",
    "        diff = 0.1\n",
    "        while step <= self.max_iter and diff >= self.eps:\n",
    "            theta_prev = self.theta.copy()\n",
    "            eta = np.matmul(x, self.theta)\n",
    "            update = np.matmul((y-np.exp(eta)),x)\n",
    "            self.theta += self.step_size*update\n",
    "            \n",
    "            diff = np.linalg.norm(self.theta - theta_prev)\n",
    "            step += 1\n",
    "            \n",
    "#             self.theta += self.step_size*(y-np.exp(eta))\n",
    "\n",
    "        \n",
    "        # *** END CODE HERE ***\n",
    "\n",
    "    def predict(self, x):\n",
    "        \"\"\"Make a prediction given inputs x.\n",
    "\n",
    "        Args:\n",
    "            x: Inputs of shape (n_examples, dim).\n",
    "\n",
    "        Returns:\n",
    "            Floating-point prediction for each input, shape (n_examples,).\n",
    "        \"\"\"\n",
    "        # *** START CODE HERE ***\n",
    "        eta = np.matmul(x, self.theta)\n",
    "        y_pred = np.exp(eta)\n",
    "        return y_pred\n",
    "        # *** END CODE HERE ***"
   ]
  },
  {
   "cell_type": "code",
   "execution_count": 25,
   "metadata": {},
   "outputs": [],
   "source": [
    "clf = PoissonRegression()"
   ]
  },
  {
   "cell_type": "code",
   "execution_count": 26,
   "metadata": {},
   "outputs": [],
   "source": [
    "clf.fit(x_train,y_train)"
   ]
  },
  {
   "cell_type": "code",
   "execution_count": 27,
   "metadata": {},
   "outputs": [
    {
     "data": {
      "text/plain": [
       "array([0.94784589, 0.50502207, 0.44282382, 0.28191488, 0.40006766])"
      ]
     },
     "execution_count": 27,
     "metadata": {},
     "output_type": "execute_result"
    }
   ],
   "source": [
    "clf.theta"
   ]
  },
  {
   "cell_type": "code",
   "execution_count": null,
   "metadata": {},
   "outputs": [],
   "source": []
  }
 ],
 "metadata": {
  "kernelspec": {
   "display_name": "XCS229",
   "language": "python",
   "name": "xcs229"
  },
  "language_info": {
   "codemirror_mode": {
    "name": "ipython",
    "version": 3
   },
   "file_extension": ".py",
   "mimetype": "text/x-python",
   "name": "python",
   "nbconvert_exporter": "python",
   "pygments_lexer": "ipython3",
   "version": "3.6.6"
  }
 },
 "nbformat": 4,
 "nbformat_minor": 4
}
