{
 "cells": [
  {
   "cell_type": "code",
   "execution_count": 1,
   "metadata": {},
   "outputs": [],
   "source": [
    "import matplotlib\n",
    "import numpy\n",
    "import scipy\n",
    "import pandas as pd\n",
    "\n",
    "class PracticeSubmission(object): \n",
    "    def __init__(self, response=None):\n",
    "        \"\"\"\n",
    "        Args:\n",
    "            response: A string\n",
    "        \"\"\"\n",
    "        self.response = response\n",
    "    \n",
    "    def returnResponse(self):\n",
    "        self.response = \"I successfully completed the conda tutorial!\"\n",
    "        return self.response\n",
    "\n",
    "def runPracticeSubmission(response):\n",
    "    practice = PracticeSubmission()\n",
    "    response = practice.returnResponse()\n",
    "    return response\n",
    "\n",
    "def main(response):\n",
    "    response = runPracticeSubmission(response)\n",
    "\n",
    "if __name__ == '__main__':\n",
    "    main(\"Try this out!\")\n"
   ]
  },
  {
   "cell_type": "code",
   "execution_count": null,
   "metadata": {},
   "outputs": [],
   "source": []
  }
 ],
 "metadata": {
  "kernelspec": {
   "display_name": "XCS229",
   "language": "python",
   "name": "xcs229"
  },
  "language_info": {
   "codemirror_mode": {
    "name": "ipython",
    "version": 3
   },
   "file_extension": ".py",
   "mimetype": "text/x-python",
   "name": "python",
   "nbconvert_exporter": "python",
   "pygments_lexer": "ipython3",
   "version": "3.6.6"
  }
 },
 "nbformat": 4,
 "nbformat_minor": 4
}
