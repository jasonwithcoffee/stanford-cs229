{
 "cells": [
  {
   "cell_type": "code",
   "execution_count": 1,
   "metadata": {},
   "outputs": [],
   "source": [
    "import util\n",
    "import numpy as np\n",
    "import matplotlib.pyplot as plt\n",
    "import featuremap\n",
    "%matplotlib inline"
   ]
  },
  {
   "cell_type": "code",
   "execution_count": null,
   "metadata": {},
   "outputs": [],
   "source": [
    "# classes and inheritance examples\n",
    "# https://www.programiz.com/python-programming/inheritance"
   ]
  },
  {
   "cell_type": "code",
   "execution_count": 3,
   "metadata": {},
   "outputs": [],
   "source": [
    "featuremap.main(train_path='train.csv', small_path='small.csv', eval_path='test.csv')"
   ]
  },
  {
   "cell_type": "code",
   "execution_count": 120,
   "metadata": {},
   "outputs": [],
   "source": [
    "train_x,train_y=util.load_dataset('train.csv',add_intercept=True)"
   ]
  },
  {
   "cell_type": "code",
   "execution_count": 27,
   "metadata": {},
   "outputs": [
    {
     "data": {
      "text/plain": [
       "array([[ 1.        , -1.71359599],\n",
       "       [ 1.        ,  5.77545316],\n",
       "       [ 1.        ,  2.47519421],\n",
       "       [ 1.        ,  3.10985939],\n",
       "       [ 1.        ,  4.5061228 ],\n",
       "       [ 1.        , -4.75998887]])"
      ]
     },
     "execution_count": 27,
     "metadata": {},
     "output_type": "execute_result"
    }
   ],
   "source": [
    "train_x"
   ]
  },
  {
   "cell_type": "code",
   "execution_count": 29,
   "metadata": {},
   "outputs": [
    {
     "data": {
      "text/plain": [
       "array([[   1.        ,   -5.03182251],\n",
       "       [   1.        ,  192.64520256],\n",
       "       [   1.        ,   15.16449116],\n",
       "       [   1.        ,   30.07615133],\n",
       "       [   1.        ,   91.49746619],\n",
       "       [   1.        , -107.8494194 ]])"
      ]
     },
     "execution_count": 29,
     "metadata": {},
     "output_type": "execute_result"
    }
   ],
   "source": [
    "np.power(train_x,3)"
   ]
  },
  {
   "cell_type": "code",
   "execution_count": 33,
   "metadata": {},
   "outputs": [
    {
     "data": {
      "text/plain": [
       "array([[ 1.        ,  1.        , -1.71359599, -1.71359599],\n",
       "       [ 1.        ,  1.        ,  5.77545316,  5.77545316],\n",
       "       [ 1.        ,  1.        ,  2.47519421,  2.47519421],\n",
       "       [ 1.        ,  1.        ,  3.10985939,  3.10985939],\n",
       "       [ 1.        ,  1.        ,  4.5061228 ,  4.5061228 ],\n",
       "       [ 1.        ,  1.        , -4.75998887, -4.75998887]])"
      ]
     },
     "execution_count": 33,
     "metadata": {},
     "output_type": "execute_result"
    }
   ],
   "source": [
    "np.repeat(train_x,2, axis=1)"
   ]
  },
  {
   "cell_type": "code",
   "execution_count": 55,
   "metadata": {},
   "outputs": [
    {
     "data": {
      "text/plain": [
       "array([[-1.71359599, -1.71359599, -1.71359599, -1.71359599],\n",
       "       [ 5.77545316,  5.77545316,  5.77545316,  5.77545316],\n",
       "       [ 2.47519421,  2.47519421,  2.47519421,  2.47519421],\n",
       "       [ 3.10985939,  3.10985939,  3.10985939,  3.10985939],\n",
       "       [ 4.5061228 ,  4.5061228 ,  4.5061228 ,  4.5061228 ],\n",
       "       [-4.75998887, -4.75998887, -4.75998887, -4.75998887]])"
      ]
     },
     "execution_count": 55,
     "metadata": {},
     "output_type": "execute_result"
    }
   ],
   "source": [
    "# https://stackoverflow.com/questions/1550130/cloning-row-or-column-vectors\n",
    "np.tile(np.array([train_x[:,1],]).transpose(),(1,4))"
   ]
  },
  {
   "cell_type": "code",
   "execution_count": 57,
   "metadata": {},
   "outputs": [],
   "source": [
    "duped = np.tile(np.array([train_x[:,1],]).transpose(),(1,4))"
   ]
  },
  {
   "cell_type": "code",
   "execution_count": 65,
   "metadata": {},
   "outputs": [
    {
     "ename": "ValueError",
     "evalue": "all the input arrays must have same number of dimensions",
     "output_type": "error",
     "traceback": [
      "\u001b[0;31m---------------------------------------------------------------------------\u001b[0m",
      "\u001b[0;31mValueError\u001b[0m                                Traceback (most recent call last)",
      "\u001b[0;32m<ipython-input-65-d19164450063>\u001b[0m in \u001b[0;36m<module>\u001b[0;34m\u001b[0m\n\u001b[0;32m----> 1\u001b[0;31m \u001b[0mnp\u001b[0m\u001b[0;34m.\u001b[0m\u001b[0mhstack\u001b[0m\u001b[0;34m(\u001b[0m\u001b[0;34m(\u001b[0m\u001b[0mtrain_x\u001b[0m\u001b[0;34m[\u001b[0m\u001b[0;34m:\u001b[0m\u001b[0;34m,\u001b[0m\u001b[0;36m0\u001b[0m\u001b[0;34m]\u001b[0m\u001b[0;34m,\u001b[0m \u001b[0mduped\u001b[0m\u001b[0;34m)\u001b[0m\u001b[0;34m)\u001b[0m\u001b[0;34m\u001b[0m\u001b[0m\n\u001b[0m",
      "\u001b[0;32m/opt/anaconda3/envs/XCS229/lib/python3.6/site-packages/numpy/core/shape_base.py\u001b[0m in \u001b[0;36mhstack\u001b[0;34m(tup)\u001b[0m\n\u001b[1;32m    284\u001b[0m     \u001b[0;31m# As a special case, dimension 0 of 1-dimensional arrays is \"horizontal\"\u001b[0m\u001b[0;34m\u001b[0m\u001b[0;34m\u001b[0m\u001b[0m\n\u001b[1;32m    285\u001b[0m     \u001b[0;32mif\u001b[0m \u001b[0marrs\u001b[0m \u001b[0;32mand\u001b[0m \u001b[0marrs\u001b[0m\u001b[0;34m[\u001b[0m\u001b[0;36m0\u001b[0m\u001b[0;34m]\u001b[0m\u001b[0;34m.\u001b[0m\u001b[0mndim\u001b[0m \u001b[0;34m==\u001b[0m \u001b[0;36m1\u001b[0m\u001b[0;34m:\u001b[0m\u001b[0;34m\u001b[0m\u001b[0m\n\u001b[0;32m--> 286\u001b[0;31m         \u001b[0;32mreturn\u001b[0m \u001b[0m_nx\u001b[0m\u001b[0;34m.\u001b[0m\u001b[0mconcatenate\u001b[0m\u001b[0;34m(\u001b[0m\u001b[0marrs\u001b[0m\u001b[0;34m,\u001b[0m \u001b[0;36m0\u001b[0m\u001b[0;34m)\u001b[0m\u001b[0;34m\u001b[0m\u001b[0m\n\u001b[0m\u001b[1;32m    287\u001b[0m     \u001b[0;32melse\u001b[0m\u001b[0;34m:\u001b[0m\u001b[0;34m\u001b[0m\u001b[0m\n\u001b[1;32m    288\u001b[0m         \u001b[0;32mreturn\u001b[0m \u001b[0m_nx\u001b[0m\u001b[0;34m.\u001b[0m\u001b[0mconcatenate\u001b[0m\u001b[0;34m(\u001b[0m\u001b[0marrs\u001b[0m\u001b[0;34m,\u001b[0m \u001b[0;36m1\u001b[0m\u001b[0;34m)\u001b[0m\u001b[0;34m\u001b[0m\u001b[0m\n",
      "\u001b[0;31mValueError\u001b[0m: all the input arrays must have same number of dimensions"
     ]
    }
   ],
   "source": [
    "np.hstack((train_x[:,0], duped))"
   ]
  },
  {
   "cell_type": "code",
   "execution_count": 66,
   "metadata": {},
   "outputs": [
    {
     "data": {
      "text/plain": [
       "(6, 4)"
      ]
     },
     "execution_count": 66,
     "metadata": {},
     "output_type": "execute_result"
    }
   ],
   "source": [
    "duped.shape"
   ]
  },
  {
   "cell_type": "code",
   "execution_count": 76,
   "metadata": {},
   "outputs": [
    {
     "data": {
      "text/plain": [
       "(6,)"
      ]
     },
     "execution_count": 76,
     "metadata": {},
     "output_type": "execute_result"
    }
   ],
   "source": [
    "train_x[:,0].shape"
   ]
  },
  {
   "cell_type": "code",
   "execution_count": 85,
   "metadata": {},
   "outputs": [],
   "source": [
    "single_col = np.array([train_x[:,0],]).transpose()"
   ]
  },
  {
   "cell_type": "code",
   "execution_count": 86,
   "metadata": {},
   "outputs": [
    {
     "data": {
      "text/plain": [
       "(6, 1)"
      ]
     },
     "execution_count": 86,
     "metadata": {},
     "output_type": "execute_result"
    }
   ],
   "source": [
    "single_col.shape"
   ]
  },
  {
   "cell_type": "code",
   "execution_count": 87,
   "metadata": {},
   "outputs": [
    {
     "data": {
      "text/plain": [
       "array([[ 1.        , -1.71359599, -1.71359599, -1.71359599, -1.71359599],\n",
       "       [ 1.        ,  5.77545316,  5.77545316,  5.77545316,  5.77545316],\n",
       "       [ 1.        ,  2.47519421,  2.47519421,  2.47519421,  2.47519421],\n",
       "       [ 1.        ,  3.10985939,  3.10985939,  3.10985939,  3.10985939],\n",
       "       [ 1.        ,  4.5061228 ,  4.5061228 ,  4.5061228 ,  4.5061228 ],\n",
       "       [ 1.        , -4.75998887, -4.75998887, -4.75998887, -4.75998887]])"
      ]
     },
     "execution_count": 87,
     "metadata": {},
     "output_type": "execute_result"
    }
   ],
   "source": [
    "np.append(single_col,duped,1)"
   ]
  },
  {
   "cell_type": "code",
   "execution_count": 94,
   "metadata": {},
   "outputs": [],
   "source": [
    "perfect = np.hstack([single_col,duped])"
   ]
  },
  {
   "cell_type": "code",
   "execution_count": 95,
   "metadata": {},
   "outputs": [
    {
     "data": {
      "text/plain": [
       "array([[ 1.00000000e+00, -1.71359599e+00,  2.93641123e+00,\n",
       "        -5.03182251e+00,  8.62251089e+00],\n",
       "       [ 1.00000000e+00,  5.77545316e+00,  3.33558592e+01,\n",
       "         1.92645203e+02,  1.11261334e+03],\n",
       "       [ 1.00000000e+00,  2.47519421e+00,  6.12658639e+00,\n",
       "         1.51644912e+01,  3.75350608e+01],\n",
       "       [ 1.00000000e+00,  3.10985939e+00,  9.67122545e+00,\n",
       "         3.00761513e+01,  9.35326018e+01],\n",
       "       [ 1.00000000e+00,  4.50612280e+00,  2.03051427e+01,\n",
       "         9.14974662e+01,  4.12298818e+02],\n",
       "       [ 1.00000000e+00, -4.75998887e+00,  2.26574940e+01,\n",
       "        -1.07849419e+02,  5.13362036e+02]])"
      ]
     },
     "execution_count": 95,
     "metadata": {},
     "output_type": "execute_result"
    }
   ],
   "source": [
    "np.power(perfect,[0,1,2,3,4])"
   ]
  },
  {
   "cell_type": "code",
   "execution_count": 98,
   "metadata": {},
   "outputs": [
    {
     "data": {
      "text/plain": [
       "[0, 1, 2, 3, 4]"
      ]
     },
     "execution_count": 98,
     "metadata": {},
     "output_type": "execute_result"
    }
   ],
   "source": [
    "[*range(5)]"
   ]
  },
  {
   "cell_type": "code",
   "execution_count": null,
   "metadata": {},
   "outputs": [],
   "source": []
  },
  {
   "cell_type": "code",
   "execution_count": 91,
   "metadata": {},
   "outputs": [
    {
     "ename": "AxisError",
     "evalue": "axis 3 is out of bounds for array of dimension 3",
     "output_type": "error",
     "traceback": [
      "\u001b[0;31m---------------------------------------------------------------------------\u001b[0m",
      "\u001b[0;31mAxisError\u001b[0m                                 Traceback (most recent call last)",
      "\u001b[0;32m<ipython-input-91-6b75424ab57b>\u001b[0m in \u001b[0;36m<module>\u001b[0;34m\u001b[0m\n\u001b[0;32m----> 1\u001b[0;31m \u001b[0mnp\u001b[0m\u001b[0;34m.\u001b[0m\u001b[0mrepeat\u001b[0m\u001b[0;34m(\u001b[0m\u001b[0mtrain_x\u001b[0m\u001b[0;34m[\u001b[0m\u001b[0;34m:\u001b[0m\u001b[0;34m,\u001b[0m\u001b[0mnp\u001b[0m\u001b[0;34m.\u001b[0m\u001b[0mnewaxis\u001b[0m\u001b[0;34m]\u001b[0m\u001b[0;34m,\u001b[0m\u001b[0;36m1\u001b[0m\u001b[0;34m,\u001b[0m\u001b[0;36m3\u001b[0m\u001b[0;34m)\u001b[0m\u001b[0;34m\u001b[0m\u001b[0m\n\u001b[0m",
      "\u001b[0;32m/opt/anaconda3/envs/XCS229/lib/python3.6/site-packages/numpy/core/fromnumeric.py\u001b[0m in \u001b[0;36mrepeat\u001b[0;34m(a, repeats, axis)\u001b[0m\n\u001b[1;32m    443\u001b[0m \u001b[0;34m\u001b[0m\u001b[0m\n\u001b[1;32m    444\u001b[0m     \"\"\"\n\u001b[0;32m--> 445\u001b[0;31m     \u001b[0;32mreturn\u001b[0m \u001b[0m_wrapfunc\u001b[0m\u001b[0;34m(\u001b[0m\u001b[0ma\u001b[0m\u001b[0;34m,\u001b[0m \u001b[0;34m'repeat'\u001b[0m\u001b[0;34m,\u001b[0m \u001b[0mrepeats\u001b[0m\u001b[0;34m,\u001b[0m \u001b[0maxis\u001b[0m\u001b[0;34m=\u001b[0m\u001b[0maxis\u001b[0m\u001b[0;34m)\u001b[0m\u001b[0;34m\u001b[0m\u001b[0m\n\u001b[0m\u001b[1;32m    446\u001b[0m \u001b[0;34m\u001b[0m\u001b[0m\n\u001b[1;32m    447\u001b[0m \u001b[0;34m\u001b[0m\u001b[0m\n",
      "\u001b[0;32m/opt/anaconda3/envs/XCS229/lib/python3.6/site-packages/numpy/core/fromnumeric.py\u001b[0m in \u001b[0;36m_wrapfunc\u001b[0;34m(obj, method, *args, **kwds)\u001b[0m\n\u001b[1;32m     49\u001b[0m \u001b[0;32mdef\u001b[0m \u001b[0m_wrapfunc\u001b[0m\u001b[0;34m(\u001b[0m\u001b[0mobj\u001b[0m\u001b[0;34m,\u001b[0m \u001b[0mmethod\u001b[0m\u001b[0;34m,\u001b[0m \u001b[0;34m*\u001b[0m\u001b[0margs\u001b[0m\u001b[0;34m,\u001b[0m \u001b[0;34m**\u001b[0m\u001b[0mkwds\u001b[0m\u001b[0;34m)\u001b[0m\u001b[0;34m:\u001b[0m\u001b[0;34m\u001b[0m\u001b[0m\n\u001b[1;32m     50\u001b[0m     \u001b[0;32mtry\u001b[0m\u001b[0;34m:\u001b[0m\u001b[0;34m\u001b[0m\u001b[0m\n\u001b[0;32m---> 51\u001b[0;31m         \u001b[0;32mreturn\u001b[0m \u001b[0mgetattr\u001b[0m\u001b[0;34m(\u001b[0m\u001b[0mobj\u001b[0m\u001b[0;34m,\u001b[0m \u001b[0mmethod\u001b[0m\u001b[0;34m)\u001b[0m\u001b[0;34m(\u001b[0m\u001b[0;34m*\u001b[0m\u001b[0margs\u001b[0m\u001b[0;34m,\u001b[0m \u001b[0;34m**\u001b[0m\u001b[0mkwds\u001b[0m\u001b[0;34m)\u001b[0m\u001b[0;34m\u001b[0m\u001b[0m\n\u001b[0m\u001b[1;32m     52\u001b[0m \u001b[0;34m\u001b[0m\u001b[0m\n\u001b[1;32m     53\u001b[0m     \u001b[0;31m# An AttributeError occurs if the object does not have\u001b[0m\u001b[0;34m\u001b[0m\u001b[0;34m\u001b[0m\u001b[0m\n",
      "\u001b[0;31mAxisError\u001b[0m: axis 3 is out of bounds for array of dimension 3"
     ]
    }
   ],
   "source": [
    "np.repeat(train_x[:,np.newaxis],1,3)"
   ]
  },
  {
   "cell_type": "code",
   "execution_count": 137,
   "metadata": {},
   "outputs": [],
   "source": [
    "def create_poly( k, X):\n",
    "    \"\"\"\n",
    "    Generates a polynomial feature map using the data x.\n",
    "    The polynomial map should have powers from 0 to k\n",
    "    Output should be a numpy array whose shape is (n_examples, k+1)\n",
    "\n",
    "    Args:\n",
    "        X: Training example inputs. Shape (n_examples, 2).\n",
    "    \"\"\"\n",
    "    # *** START CODE HERE ***\n",
    "    polyList = [*range(k+1)]\n",
    "    col_1 = np.array([X[:,0],]).transpose()\n",
    "    col_2 = np.array([X[:,1],]).transpose()\n",
    "\n",
    "    clone_col_2 = np.tile(col_2, (1,k))\n",
    "    feature_cloned = np.hstack([col_1,clone_col_2])\n",
    "    feature_poly = np.power(feature_cloned,polyList)\n",
    "    return feature_poly"
   ]
  },
  {
   "cell_type": "code",
   "execution_count": 127,
   "metadata": {},
   "outputs": [],
   "source": [
    "k=2"
   ]
  },
  {
   "cell_type": "code",
   "execution_count": 129,
   "metadata": {},
   "outputs": [
    {
     "data": {
      "text/plain": [
       "[0, 1, 2]"
      ]
     },
     "execution_count": 129,
     "metadata": {},
     "output_type": "execute_result"
    }
   ],
   "source": [
    "polyList = [*range(k+1)]\n",
    "polyList"
   ]
  },
  {
   "cell_type": "code",
   "execution_count": 144,
   "metadata": {},
   "outputs": [],
   "source": [
    "my_poly = create_poly(5,train_x)"
   ]
  },
  {
   "cell_type": "code",
   "execution_count": 145,
   "metadata": {},
   "outputs": [
    {
     "data": {
      "text/plain": [
       "array([[ 1.        , -1.71359599],\n",
       "       [ 1.        ,  5.77545316],\n",
       "       [ 1.        ,  2.47519421],\n",
       "       [ 1.        ,  3.10985939],\n",
       "       [ 1.        ,  4.5061228 ],\n",
       "       [ 1.        , -4.75998887],\n",
       "       [ 1.        ,  5.39465405],\n",
       "       [ 1.        , -5.52158709],\n",
       "       [ 1.        , -6.28318531],\n",
       "       [ 1.        , -2.72906028],\n",
       "       [ 1.        ,  6.28318531],\n",
       "       [ 1.        , -2.0943951 ],\n",
       "       [ 1.        , -5.64852012],\n",
       "       [ 1.        , -5.39465405],\n",
       "       [ 1.        , -3.99839065],\n",
       "       [ 1.        ,  0.06346652],\n",
       "       [ 1.        , -3.74452458],\n",
       "       [ 1.        ,  6.02931923],\n",
       "       [ 1.        , -1.20586385],\n",
       "       [ 1.        ,  0.31733259],\n",
       "       [ 1.        , -3.87145761],\n",
       "       [ 1.        , -6.15625227],\n",
       "       [ 1.        ,  0.95199777],\n",
       "       [ 1.        , -5.26772102],\n",
       "       [ 1.        ,  0.6981317 ],\n",
       "       [ 1.        , -3.36372547],\n",
       "       [ 1.        ,  1.96746207],\n",
       "       [ 1.        , -1.84052903],\n",
       "       [ 1.        ,  4.88692191],\n",
       "       [ 1.        , -0.6981317 ],\n",
       "       [ 1.        ,  4.37918976],\n",
       "       [ 1.        ,  2.22132814],\n",
       "       [ 1.        ,  0.82506474],\n",
       "       [ 1.        , -2.98292636],\n",
       "       [ 1.        , -2.85599332],\n",
       "       [ 1.        , -2.60212725],\n",
       "       [ 1.        , -4.5061228 ],\n",
       "       [ 1.        , -5.9023862 ],\n",
       "       [ 1.        , -5.14078798],\n",
       "       [ 1.        , -0.95199777],\n",
       "       [ 1.        , -1.45972992],\n",
       "       [ 1.        ,  1.07893081],\n",
       "       [ 1.        , -5.77545316],\n",
       "       [ 1.        ,  1.20586385],\n",
       "       [ 1.        ,  4.25225672],\n",
       "       [ 1.        ,  6.15625227],\n",
       "       [ 1.        ,  2.0943951 ],\n",
       "       [ 1.        ,  3.36372547],\n",
       "       [ 1.        ,  3.74452458],\n",
       "       [ 1.        ,  1.58666296],\n",
       "       [ 1.        , -3.4906585 ],\n",
       "       [ 1.        ,  5.9023862 ],\n",
       "       [ 1.        ,  1.45972992],\n",
       "       [ 1.        , -1.58666296],\n",
       "       [ 1.        , -1.96746207],\n",
       "       [ 1.        ,  5.64852012],\n",
       "       [ 1.        , -0.06346652],\n",
       "       [ 1.        ,  1.71359599],\n",
       "       [ 1.        ,  3.23679243],\n",
       "       [ 1.        ,  3.61759154],\n",
       "       [ 1.        , -1.33279688],\n",
       "       [ 1.        ,  2.85599332],\n",
       "       [ 1.        , -4.25225672],\n",
       "       [ 1.        ,  5.26772102],\n",
       "       [ 1.        , -4.88692191],\n",
       "       [ 1.        , -1.07893081],\n",
       "       [ 1.        ,  1.84052903],\n",
       "       [ 1.        , -4.63305583],\n",
       "       [ 1.        ,  5.01385494],\n",
       "       [ 1.        , -2.47519421]])"
      ]
     },
     "execution_count": 145,
     "metadata": {},
     "output_type": "execute_result"
    }
   ],
   "source": [
    "train_x"
   ]
  },
  {
   "cell_type": "markdown",
   "metadata": {},
   "source": [
    "# 2B update $\\theta$"
   ]
  },
  {
   "cell_type": "code",
   "execution_count": 103,
   "metadata": {},
   "outputs": [
    {
     "data": {
      "text/plain": [
       "array([[   1.        ,    1.        ,    1.        ,    1.        ,\n",
       "           1.        ,    1.        ],\n",
       "       [  -1.71359599,    5.77545316,    2.47519421,    3.10985939,\n",
       "           4.5061228 ,   -4.75998887],\n",
       "       [   2.93641123,   33.35585922,    6.12658639,    9.67122545,\n",
       "          20.30514265,   22.65749403],\n",
       "       [  -5.03182251,  192.64520256,   15.16449116,   30.07615133,\n",
       "          91.49746619, -107.8494194 ]])"
      ]
     },
     "execution_count": 103,
     "metadata": {},
     "output_type": "execute_result"
    }
   ],
   "source": [
    "my_poly.transpose()"
   ]
  },
  {
   "cell_type": "code",
   "execution_count": 105,
   "metadata": {},
   "outputs": [
    {
     "data": {
      "text/plain": [
       "array([[6.00000000e+00, 9.39304470e+00, 9.50527190e+01, 2.16502069e+02],\n",
       "       [9.39304470e+00, 9.50527190e+01, 2.16502069e+02, 2.17796437e+03],\n",
       "       [9.50527190e+01, 2.16502069e+02, 2.17796437e+03, 6.20912209e+03],\n",
       "       [2.16502069e+02, 2.17796437e+03, 6.20912209e+03, 5.82753136e+04]])"
      ]
     },
     "execution_count": 105,
     "metadata": {},
     "output_type": "execute_result"
    }
   ],
   "source": [
    "my_poly.transpose().dot(my_poly)"
   ]
  },
  {
   "cell_type": "code",
   "execution_count": 106,
   "metadata": {},
   "outputs": [
    {
     "data": {
      "text/plain": [
       "array([  -0.59456649,   -7.63678614,   -8.44256009, -290.48666046])"
      ]
     },
     "execution_count": 106,
     "metadata": {},
     "output_type": "execute_result"
    }
   ],
   "source": [
    "my_poly.transpose().dot(train_y)"
   ]
  },
  {
   "cell_type": "code",
   "execution_count": 109,
   "metadata": {},
   "outputs": [],
   "source": [
    "def fit(X, y):\n",
    "    \"\"\"Run solver to fit linear model. You have to update the value of\n",
    "    self.theta using the normal equations.\n",
    "\n",
    "    Args:\n",
    "        X: Training example inputs. Shape (n_examples, dim).\n",
    "        y: Training example labels. Shape (n_examples,).\n",
    "    \"\"\"\n",
    "    # *** START CODE HERE ***\n",
    "    X_transpose = X.transpose()\n",
    "    update_theta = np.linalg.solve(X_transpose.dot(X),X_transpose.dot(y))\n",
    "    return update_theta"
   ]
  },
  {
   "cell_type": "code",
   "execution_count": 146,
   "metadata": {},
   "outputs": [],
   "source": [
    "my_theta = fit(my_poly, train_y)"
   ]
  },
  {
   "cell_type": "code",
   "execution_count": 147,
   "metadata": {},
   "outputs": [
    {
     "data": {
      "text/plain": [
       "array([-5.88966782e-03,  6.59271928e-01,  3.19919077e-03, -6.97668231e-02,\n",
       "       -1.21887628e-04,  1.36463074e-03])"
      ]
     },
     "execution_count": 147,
     "metadata": {},
     "output_type": "execute_result"
    }
   ],
   "source": [
    "my_theta"
   ]
  },
  {
   "cell_type": "code",
   "execution_count": 112,
   "metadata": {},
   "outputs": [
    {
     "data": {
      "text/plain": [
       "array([-1.11583643, -1.00317761,  0.16481194,  0.26698106,  0.02241875,\n",
       "        1.07023579])"
      ]
     },
     "execution_count": 112,
     "metadata": {},
     "output_type": "execute_result"
    }
   ],
   "source": [
    "my_poly.dot(my_theta)"
   ]
  },
  {
   "cell_type": "code",
   "execution_count": 113,
   "metadata": {},
   "outputs": [
    {
     "data": {
      "text/plain": [
       "array([-1.32366975, -0.62183616,  0.74395102,  0.3150024 , -0.83582222,\n",
       "        1.12780822])"
      ]
     },
     "execution_count": 113,
     "metadata": {},
     "output_type": "execute_result"
    }
   ],
   "source": [
    "train_y"
   ]
  },
  {
   "cell_type": "code",
   "execution_count": 114,
   "metadata": {},
   "outputs": [
    {
     "data": {
      "text/plain": [
       "array([[-0.98982144],\n",
       "       [-0.48619674],\n",
       "       [ 0.61815899],\n",
       "       [ 0.03172793],\n",
       "       [-0.97880245],\n",
       "       [ 0.99886734]])"
      ]
     },
     "execution_count": 114,
     "metadata": {},
     "output_type": "execute_result"
    }
   ],
   "source": [
    "np.sin(np.array([train_x[:,1],]).transpose())"
   ]
  },
  {
   "cell_type": "code",
   "execution_count": 148,
   "metadata": {},
   "outputs": [],
   "source": [
    "def create_sin(k, X):\n",
    "    \"\"\"\n",
    "    Generates a sin with polynomial featuremap to the data x.\n",
    "    Output should be a numpy array whose shape is (n_examples, k+2)\n",
    "\n",
    "    Args:\n",
    "        X: Training example inputs. Shape (n_examples, 2).\n",
    "    \"\"\"\n",
    "    # *** START CODE HERE ***\n",
    "    polyList = [*range(k+1)]\n",
    "    col_1 = np.array([X[:,0],]).transpose()\n",
    "    col_2 = np.array([X[:,1],]).transpose()\n",
    "\n",
    "    clone_col_2 = np.tile(col_2, (1,k))\n",
    "    feature_cloned = np.hstack([col_1,clone_col_2])\n",
    "    feature_poly = np.power(feature_cloned,polyList)\n",
    "\n",
    "    col_2_sin = np.sin(col_2)\n",
    "    feature_poly_sin = np.hstack([feature_poly,col_2_sin])\n",
    "    return feature_poly_sin"
   ]
  },
  {
   "cell_type": "code",
   "execution_count": 149,
   "metadata": {},
   "outputs": [],
   "source": [
    "my_features_sin = create_sin(3,train_x)"
   ]
  },
  {
   "cell_type": "code",
   "execution_count": 150,
   "metadata": {},
   "outputs": [
    {
     "data": {
      "text/plain": [
       "array([-3.77972878e-04,  4.39856036e-02, -2.71432228e-04, -2.35324990e-03,\n",
       "        9.35742679e-01])"
      ]
     },
     "execution_count": 150,
     "metadata": {},
     "output_type": "execute_result"
    }
   ],
   "source": [
    "my_theta = fit(my_features_sin, train_y)\n",
    "my_theta"
   ]
  },
  {
   "cell_type": "code",
   "execution_count": null,
   "metadata": {},
   "outputs": [],
   "source": []
  }
 ],
 "metadata": {
  "kernelspec": {
   "display_name": "XCS229",
   "language": "python",
   "name": "xcs229"
  },
  "language_info": {
   "codemirror_mode": {
    "name": "ipython",
    "version": 3
   },
   "file_extension": ".py",
   "mimetype": "text/x-python",
   "name": "python",
   "nbconvert_exporter": "python",
   "pygments_lexer": "ipython3",
   "version": "3.6.6"
  }
 },
 "nbformat": 4,
 "nbformat_minor": 4
}
